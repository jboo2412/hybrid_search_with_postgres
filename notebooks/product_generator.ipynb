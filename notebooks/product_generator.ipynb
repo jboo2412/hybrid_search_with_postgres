{
 "cells": [
  {
   "cell_type": "code",
   "execution_count": 1,
   "metadata": {},
   "outputs": [],
   "source": [
    "import sys\n",
    "\n",
    "sys.path.append(\"..\")"
   ]
  },
  {
   "cell_type": "code",
   "execution_count": 2,
   "metadata": {},
   "outputs": [],
   "source": [
    "from openai import OpenAI\n",
    "from config.main import config\n",
    "from notebooks.product_schema import ProductsSchema\n",
    "\n",
    "client = OpenAI(api_key=config.OPENAI_API_KEY)\n",
    "\n",
    "\n",
    "def get_model_response(user_query):\n",
    "    messages = [\n",
    "        {\n",
    "            \"role\": \"system\",\n",
    "            \"content\": \"\"\"\n",
    "                You are a product items generator. User asks you to generate list of products according\n",
    "                to their preference. The output should be a list of items that are fit for the user's needs.\n",
    "                - the output has atleast 10-50 items.\n",
    "                - the output has a variety of items.\n",
    "                - the items belong to a variety of categories.\n",
    "                - the items are of different price ranges.\n",
    "                - the items are of different sizes.\n",
    "            \"\"\",\n",
    "        },\n",
    "        {\n",
    "            \"role\": \"user\",\n",
    "            \"content\": user_query,\n",
    "        },\n",
    "    ]\n",
    "\n",
    "    response = client.beta.chat.completions.parse(\n",
    "        messages=messages,\n",
    "        model=\"gpt-4o-2024-08-06\",\n",
    "        response_format=ProductsSchema,\n",
    "    )\n",
    "    message = response.choices[0].message\n",
    "    return message.parsed"
   ]
  },
  {
   "cell_type": "code",
   "execution_count": 6,
   "metadata": {},
   "outputs": [],
   "source": [
    "response = get_model_response(\n",
    "\"\"\"\n",
    "Generate me a menu for kids wear with different options, and sizes\n",
    "\n",
    "### Generate atleast 30 items with different price ranges and sizes.\n",
    "The items should be of different categories and sizes, and both summer and winter wear.\n",
    "\"\"\"\n",
    ")"
   ]
  },
  {
   "cell_type": "code",
   "execution_count": 7,
   "metadata": {},
   "outputs": [],
   "source": [
    "result = response.model_dump_json()"
   ]
  },
  {
   "cell_type": "code",
   "execution_count": 8,
   "metadata": {},
   "outputs": [],
   "source": [
    "import json\n",
    "\n",
    "with open(\"output.json\", \"w\") as f:\n",
    "    json.dump(json.loads(result), f, indent=4)"
   ]
  }
 ],
 "metadata": {
  "kernelspec": {
   "display_name": "env",
   "language": "python",
   "name": "python3"
  },
  "language_info": {
   "codemirror_mode": {
    "name": "ipython",
    "version": 3
   },
   "file_extension": ".py",
   "mimetype": "text/x-python",
   "name": "python",
   "nbconvert_exporter": "python",
   "pygments_lexer": "ipython3",
   "version": "3.9.10"
  }
 },
 "nbformat": 4,
 "nbformat_minor": 2
}
